{
 "cells": [
  {
   "cell_type": "code",
   "execution_count": 3,
   "id": "4c3ee0c7-f3af-4b1d-82cd-09e38f3762e3",
   "metadata": {},
   "outputs": [
    {
     "name": "stdout",
     "output_type": "stream",
     "text": [
      "55\n"
     ]
    }
   ],
   "source": [
    "#Sum of first 10 Natural Numbers using for loop\n",
    "result=0\n",
    "for i in range(1,11):\n",
    "    result = result + i\n",
    "print(result)"
   ]
  },
  {
   "cell_type": "code",
   "execution_count": 4,
   "id": "b8176903-8474-4b80-b641-20a3ce6083bd",
   "metadata": {},
   "outputs": [
    {
     "name": "stdout",
     "output_type": "stream",
     "text": [
      "55\n"
     ]
    }
   ],
   "source": [
    "#Sum of first 10 Natural Numbers using While loop\n",
    "result = 1\n",
    "total =0\n",
    "while result <= 10:\n",
    "    total = total + result\n",
    "    result = result +1\n",
    "print(total)"
   ]
  },
  {
   "cell_type": "code",
   "execution_count": 5,
   "id": "6aa9cfbd-1bfc-4a6d-8170-11046651ffe2",
   "metadata": {},
   "outputs": [
    {
     "name": "stdout",
     "output_type": "stream",
     "text": [
      "3628800\n"
     ]
    }
   ],
   "source": [
    "#Product of first 10 Natural Numbers using for loop\n",
    "result=1\n",
    "for i in range(1,11):\n",
    "    result = result * i\n",
    "print(result)"
   ]
  },
  {
   "cell_type": "code",
   "execution_count": 6,
   "id": "d2a434fa-5134-4cf1-8280-d934449b6481",
   "metadata": {},
   "outputs": [
    {
     "name": "stdout",
     "output_type": "stream",
     "text": [
      "3628800\n"
     ]
    }
   ],
   "source": [
    "#Product of first 10 Natural Numbers using While loop\n",
    "result = 1\n",
    "total =1\n",
    "while result <= 10:\n",
    "    total = total * result\n",
    "    result = result +1\n",
    "print(total)"
   ]
  },
  {
   "cell_type": "code",
   "execution_count": 7,
   "id": "d33911f2-ad5e-49a2-9caa-968bfbbc5963",
   "metadata": {},
   "outputs": [
    {
     "name": "stdin",
     "output_type": "stream",
     "text": [
      "Enter the Number: 310\n"
     ]
    },
    {
     "name": "stdout",
     "output_type": "stream",
     "text": [
      "2250.0\n"
     ]
    }
   ],
   "source": [
    "#python program to compute the electricity bill for a household.\n",
    "E_consumed = int(input(\"Enter the Number:\"))\n",
    "\n",
    "if E_consumed <=100:\n",
    "    print(E_consumed * 4.5)\n",
    "elif E_consumed <=200:\n",
    "        print(100 * 4.5 + (E_consumed -100)*6)\n",
    "elif E_consumed <300:\n",
    "    print(100*4.5 + 100 *6 + (E_consumed -200)*10)\n",
    "else:\n",
    "    print(100*4.5 + 100 *6 + 100*10 + (E_consumed -300)*20)"
   ]
  },
  {
   "cell_type": "code",
   "execution_count": 9,
   "id": "2d192580-22b6-4959-bd83-22473aea955b",
   "metadata": {},
   "outputs": [
    {
     "name": "stdout",
     "output_type": "stream",
     "text": [
      "[2, 4, 5, 6, 8, 10, 12, 14, 15, 16, 18, 20, 22, 24, 25, 26, 28, 30, 32, 34, 35, 36, 38, 40, 42, 44, 45, 46, 48, 50, 52, 54, 55, 56, 58, 60, 62, 64, 65, 66, 68, 70, 72, 74, 75, 76, 78, 80, 82, 84, 85, 86, 88, 90, 92, 94, 95, 96, 98, 100]\n"
     ]
    }
   ],
   "source": [
    "#Q4. Create a list of numbers from 1 to 100. Use for loop and while loop to calculate the cube of each\n",
    "#number and if the cube of that number is divisible by 4 or 5 then append that number in a list and print\n",
    "#that list.\n",
    "\n",
    "m=[]\n",
    "for i in list(range(1,101)):\n",
    "    x = i**3\n",
    "    if x%4 == 0 or x%5 == 0:\n",
    "        m.append(i)\n",
    "print(m)\n",
    "        "
   ]
  },
  {
   "cell_type": "code",
   "execution_count": 11,
   "id": "f8d351c7-d4fb-4bc3-9cd2-6325dbb7b8d4",
   "metadata": {},
   "outputs": [
    {
     "name": "stdout",
     "output_type": "stream",
     "text": [
      "11\n"
     ]
    }
   ],
   "source": [
    "#Write a program to filter count vowels in the below-given string.\n",
    "#string = \"I want to become a data scientist\"\n",
    "\n",
    "string = \"I want to become a data scientist\"\n",
    "z=string.replace(\" \", \"\")\n",
    "vowels = 'aeiou'\n",
    "count = 0\n",
    "for i in list(z):\n",
    "    if i in vowels:\n",
    "        count+=1\n",
    "print(count)\n",
    "        \n",
    "\n"
   ]
  },
  {
   "cell_type": "code",
   "execution_count": null,
   "id": "746cda9e-d935-4f26-82d2-fcd1083e2a42",
   "metadata": {},
   "outputs": [],
   "source": []
  }
 ],
 "metadata": {
  "kernelspec": {
   "display_name": "Python 3 (ipykernel)",
   "language": "python",
   "name": "python3"
  },
  "language_info": {
   "codemirror_mode": {
    "name": "ipython",
    "version": 3
   },
   "file_extension": ".py",
   "mimetype": "text/x-python",
   "name": "python",
   "nbconvert_exporter": "python",
   "pygments_lexer": "ipython3",
   "version": "3.10.8"
  }
 },
 "nbformat": 4,
 "nbformat_minor": 5
}
